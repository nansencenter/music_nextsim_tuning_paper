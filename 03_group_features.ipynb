{
 "cells": [
  {
   "cell_type": "code",
   "execution_count": null,
   "metadata": {},
   "outputs": [],
   "source": [
    "import glob\n",
    "from zipfile import BadZipFile\n",
    "\n",
    "import numpy as np\n",
    "import pandas as pd\n",
    "\n",
    "from pysida.lib import DAY_SECONDS\n",
    "\n",
    "from music_nextsim_tuning import FeatureMerger"
   ]
  },
  {
   "cell_type": "code",
   "execution_count": null,
   "metadata": {},
   "outputs": [],
   "source": [
    "fm = FeatureMerger()\n",
    "fm.size_lims = np.array([\n",
    "    [0, 5],\n",
    "    [5, 10],\n",
    "    [10, 15],\n",
    "    [15, 20],\n",
    "    [20, 25],\n",
    "])\n",
    "fm.edges_vec = [2,3,4,5,6,7,8,9]\n",
    "fm.d_vec = [1,2,4,8]\n",
    "fm.propnames = [\n",
    "    'dissimilarity',\n",
    "    'homogeneity',\n",
    "    'ASM',\n",
    "    'energy',\n",
    "    'correlation',\n",
    "    'contrast',\n",
    "]\n",
    "\n",
    "feat_col_names = (\n",
    "    ['div_50', 'div_90', 'cnv_50', 'cnv_90', 'she_50', 'she_90'] +\n",
    "    [f'a50_{sl[0]:02}' for sl in fm.size_lims] +\n",
    "    [f'a90_{sl[0]:02}' for sl in fm.size_lims] +\n",
    "    [f'{propname[:3]}_{d:02}' for propname in fm.propnames for d in fm.d_vec] +\n",
    "    ['mom_1o', 'mom_1s', 'mom_2o', 'mom_2s', 'mom_3o', 'mom_3s'] +\n",
    "    ['lkf_an', 'lkf_ln', 'lkf_no']\n",
    ")\n",
    "print(len(feat_col_names), feat_col_names)"
   ]
  },
  {
   "cell_type": "code",
   "execution_count": null,
   "metadata": {},
   "outputs": [],
   "source": [
    "# EXP_01\n",
    "idir = './music_matrix/cfg01_m20'\n",
    "odir = './music_matrix/cfg01_m20'\n",
    "exp_name = 'tru_cfg_01'\n",
    "param_names = ['compression_factor', 'C_lab', 'nu0', 'tan_phi']\n",
    "skip = ['mat09']"
   ]
  },
  {
   "cell_type": "code",
   "execution_count": null,
   "metadata": {},
   "outputs": [],
   "source": [
    "# READ ALL FEATURES FROM ALL MEMBERS\n",
    "pfiles = sorted(glob.glob(f'{idir}/*pairs.npz'))\n",
    "print(len(pfiles), pfiles[0], pfiles[-1])\n",
    "\n",
    "features_n = {}\n",
    "dates_n = {}\n",
    "for pfile in pfiles:\n",
    "    try:\n",
    "        pairs, defor, aniso, props, momes, lkfs, dates = fm.load_data(pfile, skip)\n",
    "    except (ValueError, BadZipFile) as e:\n",
    "        print(e)\n",
    "        print(pfile, 'is not processed')\n",
    "    else:\n",
    "        features = fm.read_features(pairs, defor, aniso, props, momes, lkfs, dates)\n",
    "        features, dates = fm.get_valid_features_dates(features)\n",
    "        member_id = pfile.split('/')[-1].split('_')[0].replace('mat','')\n",
    "        features_n[member_id] = features\n",
    "        dates_n[member_id] = dates"
   ]
  },
  {
   "cell_type": "code",
   "execution_count": null,
   "metadata": {},
   "outputs": [],
   "source": [
    "# GENERATE and SAVE TRAINING DATA FROM NEXTSIM\n",
    "param_vals = fm.get_param_vals(exp_name, param_names)\n",
    "training_features, training_labels = fm.merge_features_labels(param_vals, features_n, dates_n, param_names)\n",
    "trn_f_df = pd.DataFrame(training_features, columns=feat_col_names + ['date'])\n",
    "trn_l_df = pd.DataFrame(training_labels, columns=param_names)\n",
    "\n",
    "pd.to_pickle(trn_f_df, f'{odir}/ftrs.pickle')\n",
    "pd.to_pickle(trn_l_df, f'{odir}/lbls.pickle')"
   ]
  },
  {
   "cell_type": "code",
   "execution_count": null,
   "metadata": {},
   "outputs": [],
   "source": [
    "# TEST READING\n",
    "inp_ftrs = pd.read_pickle(f'{odir}/ftrs.pickle')#.drop(columns=['date']).astype(float)\n",
    "inp_lbls = pd.read_pickle(f'{odir}/lbls.pickle')#.astype(float)"
   ]
  },
  {
   "cell_type": "code",
   "execution_count": null,
   "metadata": {},
   "outputs": [],
   "source": [
    "# READ AND SAVE RGPS DATA\n",
    "pfile = './music_matrix/rgps/w98_may_pairs.npz'\n",
    "ofile = pfile.replace('pairs.npz', 'ftrs.pickle')\n",
    "skip = 'skip'\n",
    "pairs, defor, aniso, props, momes, lkfs, dates = fm.load_data(pfile, skip, skip_lkfs=True)\n",
    "features = fm.read_features(pairs, defor, aniso, props, momes, lkfs, dates)\n",
    "features, dates = fm.get_valid_features_dates(features)\n",
    "rgps_df = pd.DataFrame(np.hstack([features, np.array(dates)[None].T]), columns=feat_col_names + ['date'])\n",
    "print(ofile)\n",
    "pd.to_pickle(rgps_df, ofile)"
   ]
  },
  {
   "cell_type": "code",
   "execution_count": null,
   "metadata": {},
   "outputs": [],
   "source": [
    "inp_rgps = pd.read_pickle('./music_matrix/rgps/w07_may_ftrs.pickle')#.drop(columns=['date']).astype(float)\n"
   ]
  }
 ],
 "metadata": {
  "kernelspec": {
   "display_name": "ice",
   "language": "python",
   "name": "python3"
  },
  "language_info": {
   "codemirror_mode": {
    "name": "ipython",
    "version": 3
   },
   "file_extension": ".py",
   "mimetype": "text/x-python",
   "name": "python",
   "nbconvert_exporter": "python",
   "pygments_lexer": "ipython3",
   "version": "3.12.4"
  }
 },
 "nbformat": 4,
 "nbformat_minor": 2
}
