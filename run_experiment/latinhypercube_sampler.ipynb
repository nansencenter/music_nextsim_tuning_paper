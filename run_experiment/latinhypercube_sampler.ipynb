{
 "cells": [
  {
   "cell_type": "code",
   "execution_count": 1,
   "id": "a5627a50",
   "metadata": {},
   "outputs": [],
   "source": [
    "from scipy.stats import qmc\n",
    "import numpy as np\n",
    "import matplotlib.pyplot as plt\n",
    "from scipy.stats import qmc, truncexpon, norm\n",
    "import seaborn as sns\n",
    "import pandas as pd\n",
    "\n",
    "%matplotlib inline"
   ]
  },
  {
   "cell_type": "code",
   "execution_count": 2,
   "id": "4ad29240",
   "metadata": {},
   "outputs": [
    {
     "data": {
      "image/png": "[encoded data removed]",
      "text/plain": [
       "<Figure size 432x216 with 2 Axes>"
      ]
     },
     "metadata": {
      "needs_background": "light"
     },
     "output_type": "display_data"
    }
   ],
   "source": [
    "n = 10\n",
    "names =    ['COMPRESSION_FACTOR', 'C_LAB']\n",
    "l_bounds = [                 5e3,   1.0e6]\n",
    "u_bounds = [                 6e3,   1.2e6]\n",
    "\n",
    "sampler = qmc.LatinHypercube(d=len(l_bounds), centered=True)\n",
    "sample = sampler.random(n=n)\n",
    "sample = qmc.scale(sample, l_bounds, u_bounds)\n",
    "\n",
    "fig, axs = plt.subplots(1, len(names), figsize=(len(names)*3, 3))\n",
    "for i, name in enumerate(names):\n",
    "    axs[i].hist(sample[:, i], 8)\n",
    "    axs[i].set_xlabel(name)\n",
    "plt.show()\n",
    "\n"
   ]
  },
  {
   "cell_type": "code",
   "execution_count": 3,
   "id": "7b590aab",
   "metadata": {},
   "outputs": [
    {
     "data": {
      "text/plain": [
       "<seaborn.axisgrid.PairGrid at 0x7f37719875b0>"
      ]
     },
     "execution_count": 3,
     "metadata": {},
     "output_type": "execute_result"
    },
    {
     "data": {
      "image/png": "[encoded data removed]",
      "text/plain": [
       "<Figure size 360x360 with 6 Axes>"
      ]
     },
     "metadata": {
      "needs_background": "light"
     },
     "output_type": "display_data"
    }
   ],
   "source": [
    "sample_df = pd.DataFrame(sample, columns=names)\n",
    "sns.pairplot(sample_df, diag_kind='hist')"
   ]
  },
  {
   "cell_type": "code",
   "execution_count": 4,
   "id": "a3bc9c5d",
   "metadata": {},
   "outputs": [],
   "source": [
    "exp_config_template = 'sa10free_template.cfg'\n",
    "\n",
    "def create_config(conf_file_name, params):\n",
    "    with open(exp_config_template) as f:\n",
    "        template_lines = f.readlines()\n",
    "\n",
    "    print(conf_file_name)\n",
    "    cfg_lines = []\n",
    "    for cfg_line in template_lines:\n",
    "        for name, value in params.items():\n",
    "            cfg_line_split = cfg_line.strip().split('=')\n",
    "            if name in cfg_line_split:\n",
    "                cfg_line = cfg_line.replace(name, str(value))\n",
    "        cfg_lines.append(cfg_line)\n",
    "\n",
    "    with open(conf_file_name, 'wt') as f:\n",
    "        f.writelines(cfg_lines)\n"
   ]
  },
  {
   "cell_type": "code",
   "execution_count": 5,
   "id": "324b9aa0",
   "metadata": {
    "scrolled": false
   },
   "outputs": [
    {
     "name": "stdout",
     "output_type": "stream",
     "text": [
      "sa10free_mat00.cfg {'COMPRESSION_FACTOR': 5250, 'C_LAB': 1010000, 'EXPORTER_PATH': '/cluster/work/users/akorosov/music/sa10free_mat00'}\n",
      "sa10free_mat00.cfg\n",
      "sa10free_mat01.cfg {'COMPRESSION_FACTOR': 5550, 'C_LAB': 1050000, 'EXPORTER_PATH': '/cluster/work/users/akorosov/music/sa10free_mat01'}\n",
      "sa10free_mat01.cfg\n",
      "sa10free_mat02.cfg {'COMPRESSION_FACTOR': 5850, 'C_LAB': 1030000, 'EXPORTER_PATH': '/cluster/work/users/akorosov/music/sa10free_mat02'}\n",
      "sa10free_mat02.cfg\n",
      "sa10free_mat03.cfg {'COMPRESSION_FACTOR': 5150, 'C_LAB': 1090000, 'EXPORTER_PATH': '/cluster/work/users/akorosov/music/sa10free_mat03'}\n",
      "sa10free_mat03.cfg\n",
      "sa10free_mat04.cfg {'COMPRESSION_FACTOR': 5750, 'C_LAB': 1070000, 'EXPORTER_PATH': '/cluster/work/users/akorosov/music/sa10free_mat04'}\n",
      "sa10free_mat04.cfg\n",
      "sa10free_mat05.cfg {'COMPRESSION_FACTOR': 5350, 'C_LAB': 1110000, 'EXPORTER_PATH': '/cluster/work/users/akorosov/music/sa10free_mat05'}\n",
      "sa10free_mat05.cfg\n",
      "sa10free_mat06.cfg {'COMPRESSION_FACTOR': 5650, 'C_LAB': 1190000, 'EXPORTER_PATH': '/cluster/work/users/akorosov/music/sa10free_mat06'}\n",
      "sa10free_mat06.cfg\n",
      "sa10free_mat07.cfg {'COMPRESSION_FACTOR': 5050, 'C_LAB': 1130000, 'EXPORTER_PATH': '/cluster/work/users/akorosov/music/sa10free_mat07'}\n",
      "sa10free_mat07.cfg\n",
      "sa10free_mat08.cfg {'COMPRESSION_FACTOR': 5450, 'C_LAB': 1170000, 'EXPORTER_PATH': '/cluster/work/users/akorosov/music/sa10free_mat08'}\n",
      "sa10free_mat08.cfg\n",
      "sa10free_mat09.cfg {'COMPRESSION_FACTOR': 5950, 'C_LAB': 1150000, 'EXPORTER_PATH': '/cluster/work/users/akorosov/music/sa10free_mat09'}\n",
      "sa10free_mat09.cfg\n"
     ]
    }
   ],
   "source": [
    "forecast_dir = '/cluster/work/users/akorosov/music'\n",
    "for iexp, rec in sample_df.iterrows():\n",
    "    exp_basename = f'sa10free_mat{iexp:02}'\n",
    "    conf_file_name = f'{exp_basename}.cfg'\n",
    "    params = dict(\n",
    "        COMPRESSION_FACTOR          = int(np.round(rec.COMPRESSION_FACTOR, 0)),\n",
    "        C_LAB                       = int(np.round(rec.C_LAB, 0)),\n",
    "        EXPORTER_PATH               = f'{forecast_dir}/{exp_basename}',\n",
    "    )\n",
    "    print(conf_file_name, params)\n",
    "    create_config(conf_file_name, params)\n"
   ]
  },
  {
   "cell_type": "code",
   "execution_count": 6,
   "id": "8ac56335",
   "metadata": {},
   "outputs": [
    {
     "name": "stdout",
     "output_type": "stream",
     "text": [
      "[mesh]\r\n",
      "filename=small_arctic_10km.msh\r\n",
      "\r\n",
      "[simul]\r\n",
      "duration=181\r\n",
      "time_init=2006-11-15\r\n",
      "timestep=900\r\n",
      "\r\n",
      "[dynamics]\r\n",
      "compression_factor=5250\r\n",
      "C_lab=1010000\r\n",
      "\r\n",
      "substeps=90\r\n",
      "time_relaxation_damage=15\r\n",
      "use_temperature_dependent_healing=true\r\n",
      "\r\n",
      "[output]\r\n",
      "exporter_path=/cluster/work/users/akorosov/music/sa10free_mat00\r\n",
      "output_per_day=4\r\n",
      "variables=M_VT\r\n",
      "variables=Concentration\r\n",
      "variables=Thickness\r\n",
      "\r\n",
      "[setup]\r\n",
      "atmosphere-type=era5\r\n",
      "ice-type=topaz_osisaf_icesat\r\n",
      "ocean-type=topaz\r\n",
      "bathymetry-type=etopo\r\n",
      "dynamics-type=bbm\r\n",
      "\r\n",
      "[thermo]\r\n",
      "diffusivity_sss=0\r\n",
      "diffusivity_sst=0\r\n",
      "h_young_max=0.3\r\n",
      "newice_type=1\r\n",
      "hnull=0.5\r\n",
      "\r\n",
      "[debugging]\r\n",
      "check_fields_fast=false\r\n"
     ]
    }
   ],
   "source": [
    "!cat sa10free_mat00.cfg"
   ]
  },
  {
   "cell_type": "code",
   "execution_count": 7,
   "id": "424ced55",
   "metadata": {},
   "outputs": [
    {
     "name": "stdout",
     "output_type": "stream",
     "text": [
      "sbatch --qos=short /cluster/home/akorosov/n/nextsim-env/config_files/music/run_music.sh sa10free_mat00\n"
     ]
    },
    {
     "name": "stderr",
     "output_type": "stream",
     "text": [
      "/bin/sh: 1: sbatch: not found\n"
     ]
    }
   ],
   "source": [
    "import time\n",
    "from subprocess import call\n",
    "for i in range(50):\n",
    "    cmd = f'sbatch --qos=short /cluster/home/akorosov/n/nextsim-env/config_files/music/run_music.sh sa10free_mat{i:02}'\n",
    "    print(cmd)\n",
    "    time.sleep(1)\n",
    "    call(cmd, shell=True)\n",
    "    break"
   ]
  },
  {
   "cell_type": "code",
   "execution_count": null,
   "id": "92c0653f",
   "metadata": {},
   "outputs": [],
   "source": []
  }
 ],
 "metadata": {
  "kernelspec": {
   "display_name": "Python 3 (ipykernel)",
   "language": "python",
   "name": "python3"
  },
  "language_info": {
   "codemirror_mode": {
    "name": "ipython",
    "version": 3
   },
   "file_extension": ".py",
   "mimetype": "text/x-python",
   "name": "python",
   "nbconvert_exporter": "python",
   "pygments_lexer": "ipython3",
   "version": "3.10.2"
  }
 },
 "nbformat": 4,
 "nbformat_minor": 5
}
