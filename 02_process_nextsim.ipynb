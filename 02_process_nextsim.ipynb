{
 "cells": [
  {
   "cell_type": "code",
   "execution_count": null,
   "metadata": {},
   "outputs": [],
   "source": [
    "import glob\n",
    "from datetime import datetime\n",
    "\n",
    "from pysida.scripts.c_merge_nextsim_rgps import Runner as Runner_c\n",
    "from pysida.scripts.d_compute_deformation import Runner as Runner_d\n",
    "from pysida.scripts.e_compute_anisotropy import Runner as Runner_e\n",
    "from pysida.scripts.f_compute_texture import Runner as Runner_f\n",
    "from pysida.scripts.g_spatial_scaling import Runner as Runner_g\n",
    "from pysida.scripts.h_detect_lkfs import Runner as Runner_h\n",
    "from pysida.scripts.i_lkf_statistics import Runner as Runner_i"
   ]
  },
  {
   "cell_type": "code",
   "execution_count": null,
   "metadata": {},
   "outputs": [],
   "source": [
    "date_begin = datetime(2006, 12, 5)\n",
    "date_end = datetime(2007, 5, 15)\n",
    "freq = '3D'\n",
    "\n",
    "idir = '../../music_matrix/cfg01_m20'\n",
    "odir = '../../music_matrix/cfg01_m20'\n",
    "r_pfile = '../../rgps/csv/w07_may_pairs.npz'\n",
    "force = False"
   ]
  },
  {
   "cell_type": "code",
   "execution_count": null,
   "metadata": {},
   "outputs": [],
   "source": [
    "# merge input nextsim data with RGPS data\n",
    "exp_dirs = sorted(glob.glob(f'{idir}/sa10free_mat??'))\n",
    "for exp_dir in exp_dirs:\n",
    "    exp_name = exp_dir.split('_')[-1]\n",
    "    pfile = f'{odir}/{exp_name}_pairs.npz'\n",
    "    # merge nextsim outputs with RGPS and make pairs similar to RGPS\n",
    "    pfile = Runner_c(force=force)(r_pfile, exp_dir, pfile)"
   ]
  },
  {
   "cell_type": "code",
   "execution_count": null,
   "metadata": {},
   "outputs": [],
   "source": [
    "# process all nextsim pairs files\n",
    "pfiles = sorted(glob.glob(f'{idir}/mat??_pairs.npz'))\n",
    "for pfile in pfiles:\n",
    "    # compute deformation on neXtSIM Pairs\n",
    "    dfile = Runner_d(force=force)(pfile)\n",
    "    # compute anisotropy on neXtSIM deformation\n",
    "    afile = Runner_e(force=force)(pfile)\n",
    "    # compute texture features on neXtSIM data\n",
    "    tfile = Runner_f(force=force)(pfile)\n",
    "    # compute texture features on neXtSIM data\n",
    "    tfile = Runner_f(force=force)(pfile)\n",
    "    # compute spatial scaling on neXtSIM data\n",
    "    sfile = Runner_g(force=force)(pfile, date_begin, date_end, freq)\n",
    "    # detect LKFs on neXtSIM data\n",
    "    lfile = Runner_h(force=force)(pfile, date_begin, date_end, freq)\n",
    "    # compute intersection angles and other statistics on LKFs from neXtSIM data\n",
    "    sfile = Runner_i(force=force)(lfile)\n"
   ]
  },
  {
   "cell_type": "code",
   "execution_count": null,
   "metadata": {},
   "outputs": [],
   "source": []
  }
 ],
 "metadata": {
  "kernelspec": {
   "display_name": "ice",
   "language": "python",
   "name": "python3"
  },
  "language_info": {
   "codemirror_mode": {
    "name": "ipython",
    "version": 3
   },
   "file_extension": ".py",
   "mimetype": "text/x-python",
   "name": "python",
   "nbconvert_exporter": "python",
   "pygments_lexer": "ipython3",
   "version": "3.1.-1"
  }
 },
 "nbformat": 4,
 "nbformat_minor": 2
}
