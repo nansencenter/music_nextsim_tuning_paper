{
 "cells": [
  {
   "cell_type": "code",
   "execution_count": null,
   "id": "e2852f21",
   "metadata": {},
   "outputs": [],
   "source": [
    "import datetime as dt\n",
    "\n",
    "from cartopy.crs import NorthPolarStereo\n",
    "from cartopy.feature import LAND, COASTLINE\n",
    "import matplotlib.pyplot as plt\n",
    "\n",
    "import numpy as np\n",
    "import pandas as pd"
   ]
  },
  {
   "cell_type": "code",
   "execution_count": null,
   "id": "684c190c",
   "metadata": {},
   "outputs": [],
   "source": [
    "def decorate_map(ax, map_extent, crs, title):\n",
    "    ax.add_feature(LAND)\n",
    "    ax.add_feature(COASTLINE)\n",
    "    ax.set_extent(map_extent, crs=crs)\n",
    "    ax.set_title(title)\n",
    "    ax.plot(0, 0, 'bo')\n",
    "    ax.text(30000, -30000, 'North \\nPole')"
   ]
  },
  {
   "cell_type": "code",
   "execution_count": null,
   "id": "e4936966",
   "metadata": {},
   "outputs": [],
   "source": [
    "df = pd.read_pickle('./rgps_csv/w07_may_LP.df')\n",
    "dfgu = np.unique(df.g)[::10]\n",
    "sizes = np.array([df[df.g == g].shape[0] for g in dfgu])\n",
    "min_size = 70\n",
    "dfgul = dfgu[sizes > min_size]"
   ]
  },
  {
   "cell_type": "code",
   "execution_count": null,
   "id": "7d746de7",
   "metadata": {},
   "outputs": [],
   "source": [
    "srs_dst = NorthPolarStereo(central_longitude=-45, true_scale_latitude=60)\n",
    "\n",
    "x_lft=-2500000.0\n",
    "x_rht=300000\n",
    "y_top=2500000\n",
    "y_bot=-1000000.0\n",
    "map_extent = [-2300000, 600000, -1100000, 2200000]\n",
    "figsize = (10,6)\n",
    "\n",
    "fig, ax = plt.subplots(1,2, figsize=figsize, subplot_kw={'projection': srs_dst})\n",
    "\n",
    "for g in dfgul:\n",
    "    ax[0].plot(df[df.g == g].x, df[df.g == g].y, 'k-', alpha=0.5, zorder=1)\n",
    "    scat = ax[0].scatter(df[df.g == g].x, df[df.g == g].y, 10, df[df.g == g].d, vmin=df.loc[0].d.to_numpy(), vmax=df.loc[1800381].d.to_numpy(), zorder=2)\n",
    "decorate_map(ax[0], map_extent, srs_dst, 'A. RGPS trajectories')\n",
    "\n",
    "\n",
    "gpi = (df.d >= dt.datetime(2007,1,1)) * (df.d <= dt.datetime(2007,1,3))\n",
    "dfiu = np.unique(df[gpi].i)\n",
    "for i in dfiu:\n",
    "    gpi = (df.d >= dt.datetime(2007,1,1)) * (df.d <= dt.datetime(2007,1,3)) * (df.i == i)\n",
    "    ax[1].plot(df[gpi].x, df[gpi].y, '.')\n",
    "decorate_map(ax[1], map_extent, srs_dst, 'B. RGPS buoys, 1 - 3 Jan 2007')\n",
    "plt.tight_layout()\n",
    "plt.savefig('../tuning_paper_figures/fig_01_rgps.png', dpi=150)\n",
    "plt.close()"
   ]
  },
  {
   "cell_type": "code",
   "execution_count": null,
   "id": "c0eebcb3",
   "metadata": {},
   "outputs": [],
   "source": []
  }
 ],
 "metadata": {
  "kernelspec": {
   "display_name": "Python 3 (ipykernel)",
   "language": "python",
   "name": "python3"
  },
  "language_info": {
   "codemirror_mode": {
    "name": "ipython",
    "version": 3
   },
   "file_extension": ".py",
   "mimetype": "text/x-python",
   "name": "python",
   "nbconvert_exporter": "python",
   "pygments_lexer": "ipython3",
   "version": "3.12.4"
  }
 },
 "nbformat": 4,
 "nbformat_minor": 5
}
