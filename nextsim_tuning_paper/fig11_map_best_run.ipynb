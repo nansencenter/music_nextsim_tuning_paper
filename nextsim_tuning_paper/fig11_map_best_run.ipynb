{
 "cells": [
  {
   "cell_type": "code",
   "execution_count": null,
   "id": "6537bd7f",
   "metadata": {},
   "outputs": [],
   "source": [
    "import os\n",
    "from datetime import datetime, timedelta\n",
    "import glob\n",
    "from multiprocessing import Pool\n",
    "import pandas as pd\n",
    "import seaborn as sns\n",
    "from cartopy.crs import NorthPolarStereo\n",
    "from cartopy.feature import LAND, COASTLINE\n",
    "import matplotlib.pyplot as plt\n",
    "from mpl_toolkits.axes_grid1.inset_locator import inset_axes\n",
    "\n",
    "import numpy as np\n",
    "from cmocean import cm\n",
    "\n",
    "DAY_SECONDS = 24 * 60 * 60"
   ]
  },
  {
   "cell_type": "code",
   "execution_count": null,
   "id": "2bb41f30",
   "metadata": {},
   "outputs": [],
   "source": [
    "def decorate_map(ax, map_extent, crs, title):\n",
    "    ax.add_feature(LAND)\n",
    "    ax.add_feature(COASTLINE)\n",
    "    ax.set_extent(map_extent, crs=crs)\n",
    "    ax.set_title(title)\n",
    "    ax.plot(0, 0, 'bo')\n",
    "    ax.text(30000, -30000, 'North \\nPole')\n",
    "\n",
    "srs_dst = NorthPolarStereo(central_longitude=-45, true_scale_latitude=60)\n",
    "map_extent = [-2300000, 300000, -1000000, 2100000]\n",
    "titles = ['RGPS', 'BBM']"
   ]
  },
  {
   "cell_type": "code",
   "execution_count": null,
   "id": "e81e5506",
   "metadata": {},
   "outputs": [],
   "source": [
    "odir = '../tuning_paper_figures'\n",
    "idir = '../music_matrix/cfg04_m20'\n",
    "pfiles = [f'{idir}/mat{best_param_i:02}_pairs.npz' for best_param_i in range(10)]\n",
    "sources = ['neXtSIM'] * len(pfiles)\n",
    "\n",
    "pfiles += ['../rgps_csv/w07_may_pairs.npz']\n",
    "sources += ['RGPS']"
   ]
  },
  {
   "cell_type": "code",
   "execution_count": null,
   "id": "51ecf255",
   "metadata": {
    "scrolled": true
   },
   "outputs": [],
   "source": [
    "names = ['div', 'she']\n",
    "cmaps = [cm.balance, 'plasma_r']\n",
    "full_names = [\n",
    "    'Divergence',\n",
    "    'Shear',\n",
    "]\n",
    "vmax = 0.1\n",
    "vmins = [-vmax, 0]\n",
    "\n",
    "force = True\n",
    "\n",
    "for pfile, src in zip(pfiles, sources):\n",
    "    dfile = pfile.replace('_pairs.npz', '_defor.npz')\n",
    "    pairs = np.load(pfile, allow_pickle=True)['pairs']\n",
    "    defor = np.load(dfile, allow_pickle=True)['defor']\n",
    "\n",
    "    date0 = datetime(2007,1,1)\n",
    "    period_len = timedelta(4)\n",
    "    time_step = 3\n",
    "\n",
    "    for day in range(0, 48, time_step):\n",
    "        date1 = date0 + timedelta(day)\n",
    "        bfile = pfile.rstrip('_pairs.npz')\n",
    "        for i, (name, cmap, full_name, vmin) in enumerate(zip(names, cmaps, full_names, vmins)):\n",
    "            ofile = f'{odir}/{bfile}_{name}_{date1.strftime(\"%Y%m%d\")}.png'\n",
    "            if os.path.exists(ofile) and not force:\n",
    "                continue\n",
    "\n",
    "            date_str = date1.strftime('%Y-%m-%d')\n",
    "            print(full_name, date1)\n",
    "            fig, axs = plt.subplots(1,1,figsize=(10,10), subplot_kw={'projection': srs_dst})\n",
    "            for p, d in zip(pairs, defor):\n",
    "                if p is None or d is None:\n",
    "                    continue\n",
    "                if date1 <= p.d1 < (date1 + period_len):\n",
    "                    e = [d.e1, d.e2][i] * DAY_SECONDS\n",
    "                    trp = axs.tripcolor(p.x1, p.y1, e, triangles=p.t, vmin=vmin, vmax=0.1, cmap=cmap, mask=~p.g)\n",
    "            decorate_map(axs, map_extent, srs_dst, src)\n",
    "            plt.tight_layout()\n",
    "\n",
    "            bgax = inset_axes(axs, '95%', '10%', loc='lower center')\n",
    "            bgax.set_facecolor((1,1,1,0.9))\n",
    "            bgax.spines['top'].set_visible(False)\n",
    "            bgax.spines['right'].set_visible(False)\n",
    "            bgax.spines['bottom'].set_visible(False)\n",
    "            bgax.spines['left'].set_visible(False)\n",
    "            bgax.tick_params(colors=(0,0,0,0), )\n",
    "            cbar_ax = inset_axes(bgax, '95%', '15%', loc='upper center')\n",
    "            cbar = fig.colorbar(trp, cax=cbar_ax, orientation='horizontal')\n",
    "            cbar.set_label(f'{full_name}, {date_str}, 1/day', fontsize=14)\n",
    "\n",
    "            print(ofile)\n",
    "            plt.savefig(ofile, dpi=150, bbox_inches='tight', pad_inches=0)\n",
    "            plt.close()"
   ]
  },
  {
   "cell_type": "code",
   "execution_count": null,
   "id": "7be3e314",
   "metadata": {},
   "outputs": [],
   "source": [
    "idir = './music_matrix/cfg04_m20'\n",
    "\n",
    "ndiv = []\n",
    "nshe = []\n",
    "\n",
    "for i in range(10):\n",
    "    ndiv.append(sorted(glob.glob(f'{idir}/mat0{i}_div_*.png')))\n",
    "    nshe.append(sorted(glob.glob(f'{idir}/mat0{i}_she_*.png')))\n",
    "\n",
    "rdiv = sorted(glob.glob('../rgps_csv/w07_may_div*.png'))\n",
    "rshe = sorted(glob.glob('../rgps_csv/w07_may_she*.png'))\n",
    "\n",
    "len(ndiv[0]), len(nshe[0]), len(rdiv), len(rshe)"
   ]
  },
  {
   "cell_type": "code",
   "execution_count": null,
   "id": "76d14c0c",
   "metadata": {
    "scrolled": false
   },
   "outputs": [],
   "source": [
    "for i in range(10):\n",
    "    ndivi = ndiv[i]\n",
    "    nshei = nshe[i]\n",
    "    for rd, rs, nd, ns in zip(rdiv, rshe, ndivi, nshei):\n",
    "        fig, axs = plt.subplots(1, 4, figsize=(20,6))\n",
    "        for j, f in enumerate([rd, nd, rs, ns]):\n",
    "            a = plt.imread(f)\n",
    "            axs[j].imshow(a[100:-50, 20:-10])\n",
    "        for ax in axs.flat:\n",
    "            ax.axis('off')\n",
    "        date = f.split('.')[-2].split('_')[-1]\n",
    "        axs[0].text(30, 750, date, fontsize=16, rotation=90)\n",
    "        axs[0].text(250, 50, 'RGPS', fontsize=14)\n",
    "        axs[1].text(250, 50, 'neXtSIM', fontsize=14)\n",
    "        axs[2].text(250, 50, 'RGPS', fontsize=14)\n",
    "        axs[3].text(250, 50, 'neXtSIM', fontsize=14)\n",
    "\n",
    "        plt.tight_layout()\n",
    "        ofile = f'{idir}/row_{i}_{date}.png'\n",
    "        plt.savefig(ofile, dpi=150, bbox_inches='tight', pad_inches=0)\n",
    "        plt.close()\n",
    "        print(ofile)"
   ]
  }
 ],
 "metadata": {
  "kernelspec": {
   "display_name": "Python 3 (ipykernel)",
   "language": "python",
   "name": "python3"
  },
  "language_info": {
   "codemirror_mode": {
    "name": "ipython",
    "version": 3
   },
   "file_extension": ".py",
   "mimetype": "text/x-python",
   "name": "python",
   "nbconvert_exporter": "python",
   "pygments_lexer": "ipython3",
   "version": "3.12.4"
  }
 },
 "nbformat": 4,
 "nbformat_minor": 5
}
