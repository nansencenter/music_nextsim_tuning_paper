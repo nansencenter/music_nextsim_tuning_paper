{
 "cells": [
  {
   "cell_type": "code",
   "execution_count": null,
   "metadata": {},
   "outputs": [],
   "source": [
    "import matplotlib.pyplot as plt\n",
    "import numpy as np\n",
    "import pandas as pd"
   ]
  },
  {
   "cell_type": "code",
   "execution_count": null,
   "metadata": {},
   "outputs": [],
   "source": [
    "label_name_map = {\n",
    "    'compression_factor': '$P_0$',\n",
    "    'C_lab': '$c_\\\\text{ref}$',\n",
    "    'exponent_compression_factor': '$H$',\n",
    "    'compaction_param': '$C$',\n",
    "    'ERA5_quad_drag_coef_air': '$C_A$',\n",
    "    'nu0': '$\\\\nu$',\n",
    "    'tan_phi': '$\\\\mu$',\n",
    "}\n",
    "\n",
    "inp_ftrs = pd.read_pickle('../music_matrix/cfg01_m20/ftrs.pickle').drop(columns=['date']).astype(float)\n",
    "inp_lbls = pd.read_pickle('../music_matrix/cfg01_m20/lbls.pickle')\n",
    "full_array = np.hstack([inp_ftrs.to_numpy(), inp_lbls.to_numpy()])\n",
    "corrcoefs = np.corrcoef(full_array.T)"
   ]
  },
  {
   "cell_type": "code",
   "execution_count": null,
   "metadata": {},
   "outputs": [],
   "source": [
    "lbl_names = [label_name_map[param_name] for param_name in inp_lbls.columns]"
   ]
  },
  {
   "cell_type": "code",
   "execution_count": null,
   "metadata": {},
   "outputs": [],
   "source": [
    "fig, axs = plt.subplots(1,1, figsize=(10, 5))\n",
    "plt.imshow(corrcoefs[-4:, :-4]**2, cmap='jet', clim=[0,1])\n",
    "plt.yticks(range(4), lbl_names)\n",
    "plt.xticks(range(49), inp_ftrs.columns, rotation=90)\n",
    "plt.colorbar(shrink=0.3, orientation='horizontal')\n",
    "plt.tight_layout()\n",
    "plt.savefig('../tuning_paper_figures/fig00_correlations.png', dpi=100, bbox_inches='tight', pad_inches=0.1)\n",
    "plt.show()\n"
   ]
  },
  {
   "cell_type": "code",
   "execution_count": null,
   "metadata": {},
   "outputs": [],
   "source": []
  }
 ],
 "metadata": {
  "kernelspec": {
   "display_name": "ice",
   "language": "python",
   "name": "python3"
  },
  "language_info": {
   "codemirror_mode": {
    "name": "ipython",
    "version": 3
   },
   "file_extension": ".py",
   "mimetype": "text/x-python",
   "name": "python",
   "nbconvert_exporter": "python",
   "pygments_lexer": "ipython3",
   "version": "3.12.4"
  }
 },
 "nbformat": 4,
 "nbformat_minor": 2
}
