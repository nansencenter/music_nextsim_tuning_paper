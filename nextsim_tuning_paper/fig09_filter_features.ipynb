{
 "cells": [
  {
   "cell_type": "code",
   "execution_count": null,
   "id": "45aed74f",
   "metadata": {},
   "outputs": [],
   "source": [
    "from datetime import datetime\n",
    "import matplotlib.pyplot as plt\n",
    "import numpy as np\n",
    "\n",
    "from music_nextsim_tuning import read_and_scale"
   ]
  },
  {
   "cell_type": "code",
   "execution_count": null,
   "id": "6537bd7f",
   "metadata": {},
   "outputs": [],
   "source": [
    "max_date = datetime(2007, 4, 12)\n",
    "max_std = 1.5\n",
    "\n",
    "rdir = './music_matrix/cfg01_m20'\n",
    "odir = '../tuning_paper_figures'\n",
    "idir = './music_matrix/cfg01_m20'\n",
    "\n",
    "param_names, inp_rgps, inp_ftrs = read_and_scale(idir, max_date)\n",
    "\n",
    "rgps_avg = np.median(inp_rgps, axis=0)\n",
    "rgps_std = np.std(inp_rgps, axis=0)\n",
    "\n",
    "plt.figure(figsize=(10,2))\n",
    "arg_idx = np.argsort(rgps_avg)\n",
    "rgps_avg = rgps_avg[arg_idx]\n",
    "rgps_std = rgps_std[arg_idx]\n",
    "columns = inp_rgps.columns[arg_idx]\n",
    "gpi = (rgps_avg > -max_std) * (rgps_avg < max_std)\n",
    "\n",
    "plt.errorbar(columns, rgps_avg, rgps_std, capsize=2, fmt='none', color='k')\n",
    "plt.bar(columns, rgps_avg, label='Excluded descriptors')\n",
    "plt.bar(columns[gpi], rgps_avg[gpi], color='green', label='Included descriptors')\n",
    "plt.hlines([-max_std, 0, max_std], 0, len(columns), color='k', alpha=0.5)\n",
    "plt.xticks(rotation = 90) # Rotates X-Axis Ticks\n",
    "plt.ylabel('$\\hat\\mu_R$ and $\\hat\\sigma_R$')\n",
    "ofile = f'{odir}/fig00_filter_features_mean_std_{idir.split(\"/\")[-1]}.png'\n",
    "plt.legend()\n",
    "plt.savefig(ofile, dpi=150, bbox_inches='tight', pad_inches=0.1)\n",
    "plt.show()"
   ]
  },
  {
   "cell_type": "code",
   "execution_count": null,
   "id": "1b706b97",
   "metadata": {},
   "outputs": [],
   "source": [
    "rmse_file = '../tuning_paper_figures/filter_autoencoder.npz'\n",
    "with np.load(rmse_file, allow_pickle=True) as f:\n",
    "    rmse_n1 = f['rmse_n1']\n",
    "    rmse_r1 = f['rmse_r1']\n",
    "    good_columns1 = f['good_columns1']"
   ]
  },
  {
   "cell_type": "code",
   "execution_count": null,
   "id": "79461ed6",
   "metadata": {},
   "outputs": [],
   "source": [
    "sort_idx = np.argsort(rmse_r1)\n",
    "plt.figure(figsize=(10,2))\n",
    "plt.bar(good_columns1[sort_idx], rmse_r1[sort_idx], alpha=0.7, label='Excluded descriptors')\n",
    "plt.bar(good_columns1[sort_idx][:36], rmse_r1[sort_idx][:36], alpha=0.7, label='Included descriptors', color='green')\n",
    "plt.bar(good_columns1[sort_idx], rmse_n1[sort_idx], alpha=0.7, label='neXtSIM')\n",
    "plt.hlines([0.95], 0, len(sort_idx), color='k', alpha=0.5)\n",
    "plt.ylabel('Autoencoder RMSE')\n",
    "plt.xticks(rotation = 90) # Rotates X-Axis Ticks\n",
    "ofile = f'{odir}/fig00_filter_features_autoencoder_{idir.split(\"/\")[-1]}.png'\n",
    "plt.legend()\n",
    "plt.savefig(ofile, dpi=150, bbox_inches='tight', pad_inches=0.1)\n",
    "plt.show()\n",
    "print(ofile)\n"
   ]
  },
  {
   "cell_type": "code",
   "execution_count": null,
   "id": "adfac226",
   "metadata": {},
   "outputs": [],
   "source": []
  }
 ],
 "metadata": {
  "kernelspec": {
   "display_name": "Python 3 (ipykernel)",
   "language": "python",
   "name": "python3"
  },
  "language_info": {
   "codemirror_mode": {
    "name": "ipython",
    "version": 3
   },
   "file_extension": ".py",
   "mimetype": "text/x-python",
   "name": "python",
   "nbconvert_exporter": "python",
   "pygments_lexer": "ipython3",
   "version": "3.12.3"
  }
 },
 "nbformat": 4,
 "nbformat_minor": 5
}
