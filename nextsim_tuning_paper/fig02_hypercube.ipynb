{
 "cells": [
  {
   "cell_type": "code",
   "execution_count": null,
   "id": "061139e6",
   "metadata": {},
   "outputs": [],
   "source": [
    "from collections import defaultdict\n",
    "import glob\n",
    "\n",
    "import numpy as np\n",
    "import matplotlib.pyplot as plt\n",
    "import seaborn as sns\n",
    "import pandas as pd"
   ]
  },
  {
   "cell_type": "code",
   "execution_count": null,
   "id": "22c6d26c",
   "metadata": {},
   "outputs": [],
   "source": [
    "idirs = [\n",
    "    '../run_experiment/tru_cfg_01',\n",
    "    '../run_experiment/tru_cfg_02',\n",
    "    '../run_experiment/tru_cfg_04',\n",
    "]\n",
    "\n",
    "param_names = [\n",
    "    [\n",
    "        'compression_factor',\n",
    "        'C_lab',\n",
    "        'nu0',\n",
    "        'tan_phi',\n",
    "    ],\n",
    "    [\n",
    "        'compression_factor',\n",
    "        'C_lab',\n",
    "        'exponent_compression_factor',\n",
    "        'compaction_param',\n",
    "        'ERA5_quad_drag_coef_air',\n",
    "    ],\n",
    "    [\n",
    "        'compression_factor',\n",
    "        'C_lab',\n",
    "    ],\n",
    "]"
   ]
  },
  {
   "cell_type": "code",
   "execution_count": null,
   "id": "eacc702c",
   "metadata": {},
   "outputs": [],
   "source": [
    "for exp_num in [0,1,2]:\n",
    "    cfg_files = sorted(glob.glob(f'{idirs[exp_num]}/sa10free_mat??.cfg'))\n",
    "\n",
    "    param_vals = defaultdict(list)\n",
    "    for cfg_file in cfg_files:\n",
    "        with open(cfg_file, 'r') as f:\n",
    "            lines = f.readlines()\n",
    "        for l in lines:\n",
    "            split = l.strip().split('=')\n",
    "            if split and split[0] in param_names[exp_num]:\n",
    "                param_vals[split[0]].append(float(split[1]))\n",
    "    plt.figure(figsize=(10,10))\n",
    "    sns.pairplot(pd.DataFrame(param_vals), diag_kind='hist')\n",
    "    plt.savefig(f'../tuning_paper_figures/fig02_latin_{exp_num}.png', dpi=100)\n",
    "    plt.close()"
   ]
  },
  {
   "cell_type": "code",
   "execution_count": null,
   "id": "8fd06cfa",
   "metadata": {},
   "outputs": [],
   "source": []
  }
 ],
 "metadata": {
  "kernelspec": {
   "display_name": "Python 3 (ipykernel)",
   "language": "python",
   "name": "python3"
  },
  "language_info": {
   "codemirror_mode": {
    "name": "ipython",
    "version": 3
   },
   "file_extension": ".py",
   "mimetype": "text/x-python",
   "name": "python",
   "nbconvert_exporter": "python",
   "pygments_lexer": "ipython3",
   "version": "3.12.4"
  }
 },
 "nbformat": 4,
 "nbformat_minor": 5
}
