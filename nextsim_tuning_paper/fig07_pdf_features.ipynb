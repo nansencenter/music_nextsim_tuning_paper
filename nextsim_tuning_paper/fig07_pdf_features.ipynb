{
 "cells": [
  {
   "cell_type": "code",
   "execution_count": null,
   "id": "6537bd7f",
   "metadata": {},
   "outputs": [],
   "source": [
    "import matplotlib.pyplot as plt\n",
    "import numpy as np\n",
    "propnames = [\n",
    "    'dissimilarity',\n",
    "    'homogeneity',\n",
    "    'ASM',\n",
    "    'energy',\n",
    "    'correlation',\n",
    "    'contrast',\n",
    "]\n",
    "import pandas as pd\n",
    "from scipy.stats import gaussian_kde"
   ]
  },
  {
   "cell_type": "code",
   "execution_count": null,
   "id": "2bb41f30",
   "metadata": {},
   "outputs": [],
   "source": [
    "inp_ftrs = pd.read_pickle('../../../music_matrix/cfg01_m20/ftrs.pickle').drop(columns=['date']).astype(float)\n",
    "inp_lbls = pd.read_pickle('../../../music_matrix/cfg01_m20/lbls.pickle')\n",
    "inp_rgps = pd.read_pickle('../../../music_matrix/cfg01_m20/rgps.pickle').drop(columns=['date']).astype(float)"
   ]
  },
  {
   "cell_type": "code",
   "execution_count": null,
   "id": "cf7160af",
   "metadata": {},
   "outputs": [],
   "source": [
    "#13 [5.0e+02 1.6e+06] [6.000e+02 1.725e+06]\n",
    "#37 [  20000. 1600000.] [  19000. 1575000.]\n",
    "#2 [ 10000. 500000.] [  8200. 525000.]\n",
    "#26 [  10000. 3000000.] [   9800. 2875000.]"
   ]
  },
  {
   "cell_type": "code",
   "execution_count": null,
   "id": "2594484e",
   "metadata": {
    "scrolled": false
   },
   "outputs": [],
   "source": [
    "if0 = inp_ftrs[(inp_lbls.compression_factor == 600) * (inp_lbls.C_lab == 1725000)]\n",
    "if1 = inp_ftrs[(inp_lbls.compression_factor == 19000) * (inp_lbls.C_lab == 1575000)]\n",
    "if2 = inp_ftrs[(inp_lbls.compression_factor == 8200) * (inp_lbls.C_lab == 525000)]\n",
    "if3 = inp_ftrs[(inp_lbls.compression_factor == 9800) * (inp_lbls.C_lab == 2875000)]"
   ]
  },
  {
   "cell_type": "code",
   "execution_count": null,
   "id": "a552b6dd",
   "metadata": {},
   "outputs": [],
   "source": [
    "fig, axs = plt.subplots(7, 7, figsize=(20,20))\n",
    "for i, colname in enumerate(if0.columns):\n",
    "    points = np.linspace(*np.percentile(inp_ftrs[colname], [.1, 99.9]), 50)\n",
    "    for j, a in enumerate([inp_ftrs[colname], if0[colname], if1[colname], inp_rgps[colname]]):\n",
    "        kde = gaussian_kde(a)\n",
    "        axs.flat[i].plot(points, kde(points), '-')\n",
    "        if j == 0:\n",
    "            axs.flat[i].fill_between(points, 0, kde(points))\n",
    "\n",
    "    axs.flat[i].set_title(colname)\n",
    "    #break\n",
    "\n",
    "plt.tight_layout()\n",
    "axs[0,0].legend(['All', 'All', 'Low P', 'High P', 'RGPS'])\n",
    "plt.savefig('../tuning_paper_figures/fig00_descriptor_pdfs.png', dpi=100, bbox_inches='tight', pad_inches=0.1)\n",
    "plt.show()\n"
   ]
  },
  {
   "cell_type": "code",
   "execution_count": null,
   "id": "404aae11",
   "metadata": {},
   "outputs": [],
   "source": []
  }
 ],
 "metadata": {
  "kernelspec": {
   "display_name": "Python 3 (ipykernel)",
   "language": "python",
   "name": "python3"
  },
  "language_info": {
   "codemirror_mode": {
    "name": "ipython",
    "version": 3
   },
   "file_extension": ".py",
   "mimetype": "text/x-python",
   "name": "python",
   "nbconvert_exporter": "python",
   "pygments_lexer": "ipython3",
   "version": "3.12.4"
  }
 },
 "nbformat": 4,
 "nbformat_minor": 5
}
