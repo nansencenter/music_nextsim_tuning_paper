{
 "cells": [
  {
   "cell_type": "code",
   "execution_count": null,
   "metadata": {},
   "outputs": [],
   "source": [
    "import numpy as np\n",
    "import pandas as pd\n",
    "from sklearn.linear_model import LinearRegression\n",
    "\n",
    "from music_nextsim_tuning import train_params, plot_scatter_histo\n",
    "DAY_SECONDS = 24 * 60 * 60"
   ]
  },
  {
   "cell_type": "code",
   "execution_count": null,
   "metadata": {},
   "outputs": [],
   "source": [
    "def train_func(param_name, i, train_features, train_labels, test_features, test_labels):\n",
    "    model = LinearRegression().fit(train_features, train_labels)\n",
    "    return model, None"
   ]
  },
  {
   "cell_type": "code",
   "execution_count": null,
   "metadata": {},
   "outputs": [],
   "source": [
    "# COMMON\n",
    "rdir = './music_matrix/cfg01_m20'\n",
    "xlims = {\n",
    "    'compression_factor': [0, 20000],\n",
    "    'C_lab' : [0, 2e6],\n",
    "}\n",
    "bins = 14\n",
    "density = True\n",
    "n_repeats = 10\n",
    "epochs = 300\n",
    "patience = 10"
   ]
  },
  {
   "cell_type": "code",
   "execution_count": null,
   "metadata": {},
   "outputs": [],
   "source": [
    "configs = [\n",
    "    dict(\n",
    "        idir = './music_matrix/cfg01_m20',\n",
    "        max_date = '2007-05-01',\n",
    "        good_features = ['hom_01', 'cor_02', 'cor_04', 'ASM_04', 'hom_02', 'div_90', 'ASM_02',\n",
    "                'ene_04', 'ASM_01', 'ene_02', 'con_02', 'ene_01', 'con_01', 'con_04',\n",
    "                'a50_05', 'dis_02', 'dis_04', 'dis_01', 'a90_10', 'mom_3o', 'cnv_50',\n",
    "                'she_50', 'mom_3s', 'mom_2o', 'hom_04', 'a50_10', 'she_90', 'mom_2s',\n",
    "                'a50_15', 'cnv_90', 'mom_1o', 'mom_1s'],\n",
    "    ),\n",
    "    dict(\n",
    "        idir = './music_matrix/cfg02_m20',\n",
    "        max_date = '2007-06-01',\n",
    "        good_features = ['cor_01', 'hom_01', 'ASM_04', 'hom_02', 'ene_04', 'ene_02', 'ASM_02',\n",
    "                'cor_02', 'ene_01', 'ASM_01', 'div_90', 'con_02', 'con_01', 'a50_05',\n",
    "                'con_04', 'cnv_50', 'she_50', 'hom_04', 'dis_02', 'she_90', 'dis_01',\n",
    "                'dis_04', 'cnv_90', 'a50_10', 'mom_3o', 'mom_1s', 'mom_3s', 'a50_15',\n",
    "                'mom_2o', 'mom_1o', 'mom_2s'],\n",
    "    )\n",
    "]"
   ]
  },
  {
   "cell_type": "code",
   "execution_count": null,
   "metadata": {},
   "outputs": [],
   "source": [
    "for config in configs:\n",
    "    idir = config['idir']\n",
    "    max_date = config['max_date']\n",
    "    good_features = config['good_features']\n",
    "\n",
    "    inp_ftrs = pd.read_pickle(f'{idir}/ftrs.pickle')\n",
    "    inp_lbls = pd.read_pickle(f'{idir}/lbls.pickle')\n",
    "    inp_rgps = pd.read_pickle(f'{rdir}/rgps.pickle')\n",
    "    print(inp_ftrs.shape, inp_lbls.shape, inp_rgps.shape)\n",
    "\n",
    "    inp_lbls = inp_lbls.drop(inp_ftrs[inp_ftrs.date > max_date].index)\n",
    "    inp_ftrs = inp_ftrs.drop(inp_ftrs[inp_ftrs.date > max_date].index)\n",
    "    inp_rgps = inp_rgps.drop(inp_rgps[inp_rgps.date > max_date].index)\n",
    "    print(inp_ftrs.shape, inp_lbls.shape, inp_rgps.shape)\n",
    "\n",
    "    inp_ftrs = inp_ftrs[good_features].astype(float)\n",
    "    inp_rgps = inp_rgps[good_features].astype(float)\n",
    "    print(inp_ftrs.shape, inp_lbls.shape, inp_rgps.shape)\n",
    "\n",
    "    ftrs_avg = inp_ftrs.mean()\n",
    "    ftrs_std = inp_ftrs.std()\n",
    "    lbls_avg = inp_lbls.mean()\n",
    "    lbls_std = inp_lbls.std()\n",
    "\n",
    "    inp_ftrs = (inp_ftrs - ftrs_avg) / ftrs_std\n",
    "    inp_rgps = (inp_rgps - ftrs_avg) / ftrs_std\n",
    "    inp_lbls = (inp_lbls - lbls_avg) / lbls_std\n",
    "\n",
    "    param_names = list(inp_lbls.columns)\n",
    "    print(param_names)\n",
    "\n",
    "    rgps_pred_params, test_pred_params, test_labe_params, test_prms_params, train_prms_params = train_params(param_names, inp_ftrs, inp_lbls, inp_rgps, train_func, lbls_std, lbls_avg, n_repeats, epochs, patience, ax=None)\n",
    "    plot_scatter_histo(param_names, test_labe_params, test_pred_params, rgps_pred_params, bins, density, xlims)\n",
    "    np.savez(f'{idir}/lr_training.npz', rgps_pred_params=rgps_pred_params, test_pred_params=test_pred_params, test_labe_params=test_labe_params, test_prms_params=test_prms_params)"
   ]
  },
  {
   "cell_type": "code",
   "execution_count": null,
   "metadata": {},
   "outputs": [],
   "source": []
  }
 ],
 "metadata": {
  "kernelspec": {
   "display_name": "ice",
   "language": "python",
   "name": "python3"
  },
  "language_info": {
   "codemirror_mode": {
    "name": "ipython",
    "version": 3
   },
   "file_extension": ".py",
   "mimetype": "text/x-python",
   "name": "python",
   "nbconvert_exporter": "python",
   "pygments_lexer": "ipython3",
   "version": "3.12.4"
  }
 },
 "nbformat": 4,
 "nbformat_minor": 2
}
