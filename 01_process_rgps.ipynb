{
 "cells": [
  {
   "cell_type": "code",
   "execution_count": 1,
   "metadata": {},
   "outputs": [],
   "source": [
    "from datetime import datetime\n",
    "\n",
    "from pysida.scripts.a_convert_rgps_csv import Runner as Runner_a\n",
    "from pysida.scripts.b_find_rgps_pairs import Runner as Runner_b\n",
    "from pysida.scripts.d_compute_deformation import Runner as Runner_d\n",
    "from pysida.scripts.e_compute_anisotropy import Runner as Runner_e\n",
    "from pysida.scripts.f_compute_texture import Runner as Runner_f\n",
    "from pysida.scripts.g_spatial_scaling import Runner as Runner_g\n",
    "from pysida.scripts.h_detect_lkfs import Runner as Runner_h\n",
    "from pysida.scripts.i_lkf_statistics import Runner as Runner_i"
   ]
  },
  {
   "cell_type": "code",
   "execution_count": 2,
   "metadata": {},
   "outputs": [
    {
     "name": "stdout",
     "output_type": "stream",
     "text": [
      "/Data/sim/antonk/rgps/csv/w07_may_LP.df\n",
      "N pairs 7307 /Data/sim/antonk/rgps/csv/w07_may_pairs.npz\n",
      "/Data/sim/antonk/rgps/csv/w07_may_defor.npz\n",
      "/Data/sim/antonk/rgps/csv/w07_may_aniso.npz\n",
      "/Data/sim/antonk/rgps/csv/w07_may_texture.npz\n"
     ]
    },
    {
     "name": "stderr",
     "output_type": "stream",
     "text": [
      "/Data/sim/antonk/py/ice_deformation_analysis/pysida/lib.py:728: RuntimeWarning: Mean of empty slice.\n",
      "  x = np.ones_like(neibs) * i\n",
      "/home/antonk/miniconda3/envs/ice/lib/python3.12/site-packages/numpy/core/_methods.py:129: RuntimeWarning: invalid value encountered in scalar divide\n",
      "  ret = ret.dtype.type(ret / rcount)\n",
      "/Data/sim/antonk/py/ice_deformation_analysis/pysida/lib.py:728: RuntimeWarning: Mean of empty slice.\n",
      "  x = np.ones_like(neibs) * i\n",
      "/home/antonk/miniconda3/envs/ice/lib/python3.12/site-packages/numpy/core/_methods.py:129: RuntimeWarning: invalid value encountered in scalar divide\n",
      "  ret = ret.dtype.type(ret / rcount)\n",
      "/Data/sim/antonk/py/ice_deformation_analysis/pysida/lib.py:728: RuntimeWarning: Mean of empty slice.\n",
      "  x = np.ones_like(neibs) * i\n",
      "/home/antonk/miniconda3/envs/ice/lib/python3.12/site-packages/numpy/core/_methods.py:129: RuntimeWarning: invalid value encountered in scalar divide\n",
      "  ret = ret.dtype.type(ret / rcount)\n",
      "/Data/sim/antonk/py/ice_deformation_analysis/pysida/lib.py:728: RuntimeWarning: Mean of empty slice.\n",
      "  x = np.ones_like(neibs) * i\n",
      "/home/antonk/miniconda3/envs/ice/lib/python3.12/site-packages/numpy/core/_methods.py:129: RuntimeWarning: invalid value encountered in scalar divide\n",
      "  ret = ret.dtype.type(ret / rcount)\n",
      "/Data/sim/antonk/py/ice_deformation_analysis/pysida/lib.py:728: RuntimeWarning: Mean of empty slice.\n",
      "  x = np.ones_like(neibs) * i\n",
      "/home/antonk/miniconda3/envs/ice/lib/python3.12/site-packages/numpy/core/_methods.py:129: RuntimeWarning: invalid value encountered in scalar divide\n",
      "  ret = ret.dtype.type(ret / rcount)\n",
      "/Data/sim/antonk/py/ice_deformation_analysis/pysida/lib.py:728: RuntimeWarning: Mean of empty slice.\n",
      "  x = np.ones_like(neibs) * i\n",
      "/home/antonk/miniconda3/envs/ice/lib/python3.12/site-packages/numpy/core/_methods.py:129: RuntimeWarning: invalid value encountered in scalar divide\n",
      "  ret = ret.dtype.type(ret / rcount)\n"
     ]
    },
    {
     "name": "stdout",
     "output_type": "stream",
     "text": [
      "/Data/sim/antonk/rgps/csv/w07_may_scale.npz\n"
     ]
    },
    {
     "name": "stderr",
     "output_type": "stream",
     "text": [
      "/Data/sim/antonk/py/ice_deformation_analysis/pysida/lkf_detection.py:85: RuntimeWarning: invalid value encountered in divide\n",
      "  gaussian_field = field_nonnan_f/mask_nan_f\n",
      "/Data/sim/antonk/py/ice_deformation_analysis/pysida/lkf_detection.py:232: RuntimeWarning: invalid value encountered in divide\n",
      "  dx = (seg_active[:,:,-1]-seg_active[np.arange(seg_active.shape[0]),:,-num_points])/np.stack([num_points-1,num_points-1],axis=1) - (seg_append-seg_active[:,:,-1])\n",
      "/Data/sim/antonk/py/ice_deformation_analysis/pysida/lkf_detection.py:85: RuntimeWarning: invalid value encountered in divide\n",
      "  gaussian_field = field_nonnan_f/mask_nan_f\n",
      "/Data/sim/antonk/py/ice_deformation_analysis/pysida/lkf_detection.py:232: RuntimeWarning: invalid value encountered in divide\n",
      "  dx = (seg_active[:,:,-1]-seg_active[np.arange(seg_active.shape[0]),:,-num_points])/np.stack([num_points-1,num_points-1],axis=1) - (seg_append-seg_active[:,:,-1])\n",
      "/Data/sim/antonk/py/ice_deformation_analysis/pysida/lkf_detection.py:85: RuntimeWarning: invalid value encountered in divide\n",
      "  gaussian_field = field_nonnan_f/mask_nan_f\n",
      "/Data/sim/antonk/py/ice_deformation_analysis/pysida/lkf_detection.py:232: RuntimeWarning: invalid value encountered in divide\n",
      "  dx = (seg_active[:,:,-1]-seg_active[np.arange(seg_active.shape[0]),:,-num_points])/np.stack([num_points-1,num_points-1],axis=1) - (seg_append-seg_active[:,:,-1])\n",
      "/Data/sim/antonk/py/ice_deformation_analysis/pysida/lkf_detection.py:85: RuntimeWarning: invalid value encountered in divide\n",
      "  gaussian_field = field_nonnan_f/mask_nan_f\n",
      "/Data/sim/antonk/py/ice_deformation_analysis/pysida/lkf_detection.py:232: RuntimeWarning: invalid value encountered in divide\n",
      "  dx = (seg_active[:,:,-1]-seg_active[np.arange(seg_active.shape[0]),:,-num_points])/np.stack([num_points-1,num_points-1],axis=1) - (seg_append-seg_active[:,:,-1])\n",
      "/Data/sim/antonk/py/ice_deformation_analysis/pysida/lkf_detection.py:85: RuntimeWarning: invalid value encountered in divide\n",
      "  gaussian_field = field_nonnan_f/mask_nan_f\n",
      "/Data/sim/antonk/py/ice_deformation_analysis/pysida/lkf_detection.py:232: RuntimeWarning: invalid value encountered in divide\n",
      "  dx = (seg_active[:,:,-1]-seg_active[np.arange(seg_active.shape[0]),:,-num_points])/np.stack([num_points-1,num_points-1],axis=1) - (seg_append-seg_active[:,:,-1])\n",
      "/Data/sim/antonk/py/ice_deformation_analysis/pysida/lkf_detection.py:506: RuntimeWarning: invalid value encountered in divide\n",
      "  f1 = (f1/np.sqrt(np.sum(f1**2))) # Normalize basis vector\n",
      "/Data/sim/antonk/py/ice_deformation_analysis/pysida/lkf_detection.py:503: RuntimeWarning: invalid value encountered in divide\n",
      "  e1 = (e1/np.sqrt(np.sum(e1**2))) # Normalize basis vector\n",
      "/Data/sim/antonk/py/ice_deformation_analysis/pysida/lkf_detection.py:503: RuntimeWarning: invalid value encountered in divide\n",
      "  e1 = (e1/np.sqrt(np.sum(e1**2))) # Normalize basis vector\n",
      "/Data/sim/antonk/py/ice_deformation_analysis/pysida/lkf_detection.py:506: RuntimeWarning: invalid value encountered in divide\n",
      "  f1 = (f1/np.sqrt(np.sum(f1**2))) # Normalize basis vector\n",
      "/Data/sim/antonk/py/ice_deformation_analysis/pysida/lkf_detection.py:510: RuntimeWarning: invalid value encountered in arccos\n",
      "  angle = np.arccos(angle)/np.pi*180\n",
      "/Data/sim/antonk/py/ice_deformation_analysis/pysida/lkf_detection.py:510: RuntimeWarning: invalid value encountered in arccos\n",
      "  angle = np.arccos(angle)/np.pi*180\n",
      "/Data/sim/antonk/py/ice_deformation_analysis/pysida/lkf_detection.py:503: RuntimeWarning: invalid value encountered in divide\n",
      "  e1 = (e1/np.sqrt(np.sum(e1**2))) # Normalize basis vector\n",
      "/Data/sim/antonk/py/ice_deformation_analysis/pysida/lkf_detection.py:506: RuntimeWarning: invalid value encountered in divide\n",
      "  f1 = (f1/np.sqrt(np.sum(f1**2))) # Normalize basis vector\n",
      "/Data/sim/antonk/py/ice_deformation_analysis/pysida/lkf_detection.py:503: RuntimeWarning: invalid value encountered in divide\n",
      "  e1 = (e1/np.sqrt(np.sum(e1**2))) # Normalize basis vector\n",
      "/Data/sim/antonk/py/ice_deformation_analysis/pysida/lkf_detection.py:506: RuntimeWarning: invalid value encountered in divide\n",
      "  f1 = (f1/np.sqrt(np.sum(f1**2))) # Normalize basis vector\n",
      "/Data/sim/antonk/py/ice_deformation_analysis/pysida/lkf_detection.py:503: RuntimeWarning: invalid value encountered in divide\n",
      "  e1 = (e1/np.sqrt(np.sum(e1**2))) # Normalize basis vector\n",
      "/Data/sim/antonk/py/ice_deformation_analysis/pysida/lkf_detection.py:506: RuntimeWarning: invalid value encountered in divide\n",
      "  f1 = (f1/np.sqrt(np.sum(f1**2))) # Normalize basis vector\n",
      "/Data/sim/antonk/py/ice_deformation_analysis/pysida/lkf_detection.py:510: RuntimeWarning: invalid value encountered in arccos\n",
      "  angle = np.arccos(angle)/np.pi*180\n",
      "/Data/sim/antonk/py/ice_deformation_analysis/pysida/lkf_detection.py:510: RuntimeWarning: invalid value encountered in arccos\n",
      "  angle = np.arccos(angle)/np.pi*180\n"
     ]
    },
    {
     "name": "stdout",
     "output_type": "stream",
     "text": [
      "ERROR in new_starts_deact_ind\n"
     ]
    },
    {
     "name": "stderr",
     "output_type": "stream",
     "text": [
      "/Data/sim/antonk/py/ice_deformation_analysis/pysida/lkf_detection.py:510: RuntimeWarning: invalid value encountered in arccos\n",
      "  angle = np.arccos(angle)/np.pi*180\n"
     ]
    },
    {
     "name": "stdout",
     "output_type": "stream",
     "text": [
      "ERROR in new_starts_deact_ind\n",
      "ERROR in new_starts_deact_ind\n",
      "ERROR in new_starts_deact_ind\n"
     ]
    },
    {
     "name": "stderr",
     "output_type": "stream",
     "text": [
      "/Data/sim/antonk/py/ice_deformation_analysis/pysida/lkf_detection.py:1016: RuntimeWarning: divide by zero encountered in log\n",
      "  proc_eps = np.log(eps_tot)\n",
      "/Data/sim/antonk/py/ice_deformation_analysis/pysida/lkf_detection.py:1038: RuntimeWarning: divide by zero encountered in log10\n",
      "  eps_mn = compute_mn_eps(np.log10(eps_tot),seg)\n",
      "/Data/sim/antonk/py/ice_deformation_analysis/pysida/lkf_detection.py:1047: RuntimeWarning: divide by zero encountered in log10\n",
      "  eps_mn = compute_mn_eps(np.log10(eps_tot),seg)\n"
     ]
    },
    {
     "name": "stdout",
     "output_type": "stream",
     "text": [
      "ERROR in new_starts_deact_ind\n",
      "/Data/sim/antonk/rgps/csv/w07_may_lkfs.npz\n"
     ]
    },
    {
     "name": "stderr",
     "output_type": "stream",
     "text": [
      "/Data/sim/antonk/py/ice_deformation_analysis/pysida/liblkf.py:237: RuntimeWarning: divide by zero encountered in scalar divide\n",
      "  vm0 = np.mean(v0) / np.std(v0)\n",
      "/Data/sim/antonk/py/ice_deformation_analysis/pysida/liblkf.py:238: RuntimeWarning: divide by zero encountered in scalar divide\n",
      "  vm1 = np.mean(v1) / np.std(v1)\n"
     ]
    },
    {
     "name": "stdout",
     "output_type": "stream",
     "text": [
      "/Data/sim/antonk/rgps/csv/w07_may_lkf_stats.npz\n"
     ]
    }
   ],
   "source": [
    "csv_ifile = '/Data/sim/antonk/rgps/csv/w07_may_LP.csv'\n",
    "date_begin = datetime(2006, 12, 5)\n",
    "date_end = datetime(2007, 5, 15)\n",
    "freq = '3D'\n",
    "resolution = 10000\n",
    "\n",
    "pd_file = Runner_a()(csv_ifile)\n",
    "pfile = Runner_b()(pd_file, date_begin, date_end)\n",
    "dfile = Runner_d()(pfile)\n",
    "afile = Runner_e()(pfile)\n",
    "tfile = Runner_f()(pfile)\n",
    "sfile = Runner_g()(pfile, date_begin, date_end, freq, resolution)\n",
    "lfile = Runner_h()(pfile, date_begin, date_end, freq, resolution)\n",
    "sfile = Runner_i()(lfile)"
   ]
  },
  {
   "cell_type": "code",
   "execution_count": null,
   "metadata": {},
   "outputs": [],
   "source": []
  }
 ],
 "metadata": {
  "kernelspec": {
   "display_name": "ice",
   "language": "python",
   "name": "python3"
  },
  "language_info": {
   "codemirror_mode": {
    "name": "ipython",
    "version": 3
   },
   "file_extension": ".py",
   "mimetype": "text/x-python",
   "name": "python",
   "nbconvert_exporter": "python",
   "pygments_lexer": "ipython3",
   "version": "3.12.3"
  }
 },
 "nbformat": 4,
 "nbformat_minor": 2
}
