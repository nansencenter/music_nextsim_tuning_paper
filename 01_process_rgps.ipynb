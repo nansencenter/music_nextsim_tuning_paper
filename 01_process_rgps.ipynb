{
 "cells": [
  {
   "cell_type": "code",
   "execution_count": 1,
   "metadata": {},
   "outputs": [],
   "source": [
    "from datetime import datetime\n",
    "\n",
    "from pysida.scripts.a_convert_rgps_csv import Runner as Runner_a\n",
    "from pysida.scripts.b_find_rgps_pairs import Runner as Runner_b\n",
    "from pysida.scripts.d_compute_deformation import Runner as Runner_d\n",
    "from pysida.scripts.e_compute_anisotropy import Runner as Runner_e\n",
    "from pysida.scripts.f_compute_texture import Runner as Runner_f\n",
    "from pysida.scripts.g_spatial_scaling import Runner as Runner_g\n",
    "from pysida.scripts.h_detect_lkfs import Runner as Runner_h\n",
    "from pysida.scripts.i_lkf_statistics import Runner as Runner_i"
   ]
  },
  {
   "cell_type": "code",
   "execution_count": 2,
   "metadata": {},
   "outputs": [],
   "source": [
    "csv_ifile = './rgps_csv/w07_may_LP.csv'\n",
    "odir = './music_matrix/rgps'\n",
    "date_begin = datetime(2006, 12, 5)\n",
    "date_end = datetime(2007, 4, 12)\n",
    "freq = '1D'\n",
    "force = False\n",
    "cores = 4\n",
    "\n",
    "pd_file = Runner_a(force=force, cores=cores)(csv_ifile, odir)\n",
    "pfile = Runner_b(force=force, cores=cores)(pd_file, date_begin, date_end)\n",
    "dfile = Runner_d(force=force, cores=cores)(pfile)\n",
    "afile = Runner_e(force=force, cores=cores)(pfile)\n",
    "tfile = Runner_f(force=force, cores=cores)(pfile)\n",
    "sfile = Runner_g(force=force, cores=cores)(pfile, date_begin, date_end, freq)\n",
    "lfile = Runner_h(force=force, cores=cores)(pfile, date_begin, date_end, freq)\n",
    "sfile = Runner_i(force=force, cores=cores)(lfile)"
   ]
  }
 ],
 "metadata": {
  "kernelspec": {
   "display_name": "ice",
   "language": "python",
   "name": "python3"
  },
  "language_info": {
   "codemirror_mode": {
    "name": "ipython",
    "version": 3
   },
   "file_extension": ".py",
   "mimetype": "text/x-python",
   "name": "python",
   "nbconvert_exporter": "python",
   "pygments_lexer": "ipython3",
   "version": "3.12.4"
  }
 },
 "nbformat": 4,
 "nbformat_minor": 2
}
