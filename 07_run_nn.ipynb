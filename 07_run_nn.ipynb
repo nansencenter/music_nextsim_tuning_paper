{
 "cells": [
  {
   "cell_type": "code",
   "execution_count": null,
   "metadata": {},
   "outputs": [],
   "source": [
    "import glob\n",
    "import os\n",
    "import sys\n",
    "sys.modules['numpy._core'] = None\n",
    "import numpy as np\n",
    "sys.modules['numpy._core.multiarray'] = np.core.multiarray\n",
    "sys.modules['numpy._core.numeric'] = np.core.numeric\n",
    "\n",
    "import matplotlib.pyplot as plt\n",
    "import pandas as pd\n",
    "import tensorflow as tf\n",
    "\n",
    "os.environ[\"OMP_NUM_THREADS\"] = \"10\"\n",
    "tf.config.threading.set_intra_op_parallelism_threads(1)\n",
    "tf.config.threading.set_inter_op_parallelism_threads(1)"
   ]
  },
  {
   "cell_type": "code",
   "execution_count": null,
   "metadata": {},
   "outputs": [],
   "source": [
    "def build_and_compile_model(input_size):\n",
    "    model = tf.keras.Sequential([\n",
    "        tf.keras.layers.Dense(16, activation='relu', input_shape=(input_size,)),\n",
    "        tf.keras.layers.Dense(8, activation='relu'),\n",
    "        tf.keras.layers.Dense(1)\n",
    "    ])\n",
    "\n",
    "    model.compile(\n",
    "        loss='mean_absolute_error',\n",
    "        optimizer=tf.keras.optimizers.Adam(0.0005)\n",
    "    )\n",
    "    return model\n"
   ]
  },
  {
   "cell_type": "code",
   "execution_count": null,
   "metadata": {},
   "outputs": [],
   "source": [
    "force = False\n",
    "\n",
    "configs = [\n",
    "    dict(\n",
    "        idir = './music_matrix/cfg01_m20',\n",
    "        good_features = ['hom_01', 'cor_02', 'cor_04', 'ASM_04', 'hom_02', 'div_90', 'ASM_02',\n",
    "                'ene_04', 'ASM_01', 'ene_02', 'con_02', 'ene_01', 'con_01', 'con_04',\n",
    "                'a50_05', 'dis_02', 'dis_04', 'dis_01', 'a90_10', 'mom_3o', 'cnv_50',\n",
    "                'she_50', 'mom_3s', 'mom_2o', 'hom_04', 'a50_10', 'she_90', 'mom_2s',\n",
    "                'a50_15', 'cnv_90', 'mom_1o', 'mom_1s'],\n",
    "    ),\n",
    "    dict(\n",
    "        idir = './music_matrix/cfg02_m20',\n",
    "        good_features = ['cor_01', 'hom_01', 'ASM_04', 'hom_02', 'ene_04', 'ene_02', 'ASM_02',\n",
    "                'cor_02', 'ene_01', 'ASM_01', 'div_90', 'con_02', 'con_01', 'a50_05',\n",
    "                'con_04', 'cnv_50', 'she_50', 'hom_04', 'dis_02', 'she_90', 'dis_01',\n",
    "                'dis_04', 'cnv_90', 'a50_10', 'mom_3o', 'mom_1s', 'mom_3s', 'a50_15',\n",
    "                'mom_2o', 'mom_1o', 'mom_2s'],\n",
    "    )\n",
    "]\n",
    "\n",
    "rgps_ifiles = sorted(glob.glob('./music_matrix/rgps/*ftrs.pickle'))"
   ]
  },
  {
   "cell_type": "code",
   "execution_count": null,
   "metadata": {},
   "outputs": [],
   "source": [
    "for rgps_ifile in rgps_ifiles:\n",
    "    for config in configs:\n",
    "        idir = config['idir']\n",
    "        good_features = config['good_features']\n",
    "        conf_name = idir.split('/')[-1].split('_')[0]\n",
    "        rgps_ofile = rgps_ifile.replace('ftrs.pickle', f'inference_{conf_name}.npz')\n",
    "        if os.path.exists(rgps_ofile) and not force:\n",
    "            continue\n",
    "        print(rgps_ofile)\n",
    "\n",
    "        inp_ftrs = pd.read_pickle(f'{idir}/ftrs.pickle')\n",
    "        inp_lbls = pd.read_pickle(f'{idir}/lbls.pickle')\n",
    "        inp_rgps = pd.read_pickle(rgps_ifile)\n",
    "        print(inp_ftrs.shape, inp_lbls.shape, inp_rgps.shape)\n",
    "\n",
    "        inp_ftrs = inp_ftrs[good_features].astype(float)\n",
    "        inp_date = inp_rgps['date']\n",
    "        inp_rgps = inp_rgps[good_features].astype(float)\n",
    "        print(inp_ftrs.shape, inp_lbls.shape, inp_rgps.shape)\n",
    "\n",
    "        ftrs_avg = inp_ftrs.mean()\n",
    "        ftrs_std = inp_ftrs.std()\n",
    "        lbls_avg = inp_lbls.mean()\n",
    "        lbls_std = inp_lbls.std()\n",
    "\n",
    "        inp_ftrs = (inp_ftrs - ftrs_avg) / ftrs_std\n",
    "        inp_rgps = (inp_rgps - ftrs_avg) / ftrs_std\n",
    "\n",
    "        input_size = inp_ftrs.shape[1]\n",
    "        model = build_and_compile_model(input_size)\n",
    "\n",
    "        param_names = list(inp_lbls.columns)\n",
    "        results = {'date': inp_date.to_numpy()}\n",
    "        for param_name in param_names:\n",
    "            results[param_name] = []\n",
    "            for model_n in range(10):\n",
    "                model_file = f'{idir}/model_{param_name}_{model_n:02}.hdf5'\n",
    "                model.load_weights(model_file)\n",
    "                out_rgps = model.predict(inp_rgps)\n",
    "                out_rgps = out_rgps * lbls_std[param_name] + lbls_avg[param_name]\n",
    "                results[param_name].append(out_rgps.flatten())\n",
    "            results[param_name] = np.vstack(results[param_name])\n",
    "        np.savez(rgps_ofile, **results)"
   ]
  }
 ],
 "metadata": {
  "kernelspec": {
   "display_name": "ice",
   "language": "python",
   "name": "python3"
  },
  "language_info": {
   "codemirror_mode": {
    "name": "ipython",
    "version": 3
   },
   "file_extension": ".py",
   "mimetype": "text/x-python",
   "name": "python",
   "nbconvert_exporter": "python",
   "pygments_lexer": "ipython3",
   "version": "3.11.5"
  }
 },
 "nbformat": 4,
 "nbformat_minor": 2
}
